{
 "cells": [
  {
   "cell_type": "code",
   "execution_count": 1,
   "metadata": {},
   "outputs": [],
   "source": [
    "#data preprocessing\n",
    "import pandas as pd\n",
    "#math operations\n",
    "import numpy as np\n",
    "#machine learning\n",
    "from catboost import CatBoostRegressor, Pool\n",
    "#data scaling\n",
    "from sklearn.preprocessing import StandardScaler\n",
    "#hyperparameter optimization\n",
    "from sklearn.model_selection import GridSearchCV\n",
    "#support vector machine model\n",
    "from sklearn.svm import NuSVR, SVR\n",
    "#kernel ridge model\n",
    "from sklearn.kernel_ridge import KernelRidge\n",
    "#data visualization\n",
    "import matplotlib.pyplot as plt"
   ]
  },
  {
   "cell_type": "code",
   "execution_count": null,
   "metadata": {},
   "outputs": [],
   "source": []
  }
 ],
 "metadata": {
  "kernelspec": {
   "display_name": "Python 3",
   "language": "python",
   "name": "python3"
  },
  "language_info": {
   "codemirror_mode": {
    "name": "ipython",
    "version": 3
   },
   "file_extension": ".py",
   "mimetype": "text/x-python",
   "name": "python",
   "nbconvert_exporter": "python",
   "pygments_lexer": "ipython3",
   "version": "3.7.4"
  }
 },
 "nbformat": 4,
 "nbformat_minor": 1
}
